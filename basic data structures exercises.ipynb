{
 "cells": [
  {
   "cell_type": "code",
   "execution_count": 5,
   "metadata": {},
   "outputs": [
    {
     "data": {
      "text/plain": [
       "[2, 4, 4, 5, 67, 9]"
      ]
     },
     "execution_count": 5,
     "metadata": {},
     "output_type": "execute_result"
    }
   ],
   "source": [
    "x = [2,4,5,67,9]\n",
    "x.insert(2,4)\n",
    "x"
   ]
  },
  {
   "cell_type": "code",
   "execution_count": 6,
   "metadata": {},
   "outputs": [
    {
     "data": {
      "text/plain": [
       "[2, 4, 4, 4, 5, 67, 9]"
      ]
     },
     "execution_count": 6,
     "metadata": {},
     "output_type": "execute_result"
    }
   ],
   "source": [
    "x.insert(2,4)\n",
    "x"
   ]
  },
  {
   "cell_type": "code",
   "execution_count": 23,
   "metadata": {},
   "outputs": [
    {
     "name": "stdout",
     "output_type": "stream",
     "text": [
      "{]]][\n",
      "1\n"
     ]
    }
   ],
   "source": [
    "\n",
    "from collections import namedtuple\n",
    "\n",
    "Bracket = namedtuple(\"Bracket\", [\"char\", \"position\"])\n",
    "\n",
    "\n",
    "def are_matching(left, right):\n",
    "    return (left + right) in [\"()\", \"[]\", \"{}\"]\n",
    "\n",
    "\n",
    "def find_mismatch(text):\n",
    "    opening_brackets_stack = []\n",
    "    for i, next in enumerate(text):\n",
    "        if next in \"([{\":\n",
    "            # Process opening bracket, write your code here\n",
    "            opening_brackets_stack.append(next)\n",
    "\n",
    "        if next in \")]}\":\n",
    "            # Process closing bracket, write your code here\n",
    "            left = opening_brackets_stack.pop()\n",
    "            if not are_matching(left, next):\n",
    "                return(i)\n",
    "    return 'Succes'\n",
    "\n",
    "def main():\n",
    "    text = input()\n",
    "    mismatch = find_mismatch(text)\n",
    "    # Printing answer, write your code here\n",
    "    print(mismatch)\n",
    "\n",
    "if __name__ == \"__main__\":\n",
    "    main()"
   ]
  },
  {
   "cell_type": "code",
   "execution_count": 33,
   "metadata": {},
   "outputs": [
    {
     "name": "stdout",
     "output_type": "stream",
     "text": [
      "enter tree: -1 0 4 0 3 \n",
      "0\n",
      "1 \n",
      "\n",
      "1\n",
      "0\n",
      "2 \n",
      "\n",
      "2\n",
      "4\n",
      "3\n",
      "0\n",
      "4 \n",
      "\n",
      "3\n",
      "0\n",
      "4 \n",
      "\n",
      "4\n",
      "3\n",
      "0\n",
      "4 \n",
      "\n",
      "4\n"
     ]
    }
   ],
   "source": [
    "import sys, threading\n",
    "class TreeHeight:\n",
    "        def read(self):\n",
    "                \n",
    "                self.w = input('enter tree: ')\n",
    "                self.parent = list(map(int, self.w.split()))\n",
    "\n",
    "        def compute_height(self):\n",
    "                # Replace this code with a faster implementation\n",
    "                maxHeight = 0\n",
    "                for vertex in range(len(self.parent)):\n",
    "                        height = 0\n",
    "                        i = vertex\n",
    "                        while i != -1:\n",
    "                                print(i)\n",
    "                                height += 1\n",
    "                                i = self.parent[i]\n",
    "#                                 print(height)\n",
    "                        maxHeight = max(maxHeight, height);\n",
    "                        print(maxHeight, '\\n')\n",
    "                return maxHeight;\n",
    "\n",
    "def main():\n",
    "  tree = TreeHeight()\n",
    "  tree.read()\n",
    "  print(tree.compute_height())\n",
    "\n",
    "threading.Thread(target=main).start()"
   ]
  },
  {
   "cell_type": "code",
   "execution_count": 34,
   "metadata": {},
   "outputs": [
    {
     "name": "stdout",
     "output_type": "stream",
     "text": [
      "enter tree: -1 0 4 0 3 \n",
      "0\n",
      "1 \n",
      "\n",
      "1\n",
      "0\n",
      "2 \n",
      "\n",
      "2\n",
      "4\n",
      "3\n",
      "0\n",
      "4 \n",
      "\n",
      "3\n",
      "0\n",
      "4 \n",
      "\n",
      "4\n",
      "3\n",
      "0\n",
      "4 \n",
      "\n",
      "4\n"
     ]
    }
   ],
   "source": [
    "import sys, threading\n",
    "class TreeHeight:\n",
    "        def read(self):\n",
    "                \n",
    "                self.w = input('enter tree: ')\n",
    "                self.parent = list(map(int, self.w.split()))\n",
    "\n",
    "        def compute_height(self):\n",
    "                # Replace this code with a faster implementation\n",
    "                nodes = [0 for _ in range(len(self.parent))]\n",
    "                \n",
    "                maxHeight = 0\n",
    "                for vertex in range(len(self.parent)):\n",
    "                        height = 0\n",
    "                        i = vertex\n",
    "                        while i != -1:\n",
    "                                print(i)\n",
    "                                height += 1\n",
    "                                i = self.parent[i]\n",
    "#                                 print(height)\n",
    "                        maxHeight = max(maxHeight, height);\n",
    "                        print(maxHeight, '\\n')\n",
    "                return maxHeight;\n",
    "\n",
    "def main():\n",
    "  tree = TreeHeight()\n",
    "  tree.read()\n",
    "  print(tree.compute_height())\n",
    "\n",
    "threading.Thread(target=main).start()"
   ]
  },
  {
   "cell_type": "code",
   "execution_count": 37,
   "metadata": {},
   "outputs": [
    {
     "data": {
      "text/plain": [
       "[0, 0, 0, 0, 0]"
      ]
     },
     "execution_count": 37,
     "metadata": {},
     "output_type": "execute_result"
    }
   ],
   "source": [
    "heights = [0] * 5\n",
    "heights"
   ]
  },
  {
   "cell_type": "code",
   "execution_count": 47,
   "metadata": {},
   "outputs": [
    {
     "ename": "TypeError",
     "evalue": "'int' object is not iterable",
     "output_type": "error",
     "traceback": [
      "\u001b[0;31m---------------------------------------------------------------------------\u001b[0m",
      "\u001b[0;31mTypeError\u001b[0m                                 Traceback (most recent call last)",
      "\u001b[0;32m<ipython-input-47-8bfbbd6767f2>\u001b[0m in \u001b[0;36m<module>\u001b[0;34m()\u001b[0m\n\u001b[1;32m      1\u001b[0m \u001b[0;32mfrom\u001b[0m \u001b[0mcollections\u001b[0m \u001b[0;32mimport\u001b[0m \u001b[0mdefaultdict\u001b[0m\u001b[0;34m,\u001b[0m \u001b[0mdeque\u001b[0m\u001b[0;34m\u001b[0m\u001b[0;34m\u001b[0m\u001b[0m\n\u001b[1;32m      2\u001b[0m \u001b[0mnodes\u001b[0m \u001b[0;34m=\u001b[0m \u001b[0mdefaultdict\u001b[0m\u001b[0;34m(\u001b[0m\u001b[0mset\u001b[0m\u001b[0;34m)\u001b[0m\u001b[0;34m\u001b[0m\u001b[0;34m\u001b[0m\u001b[0m\n\u001b[0;32m----> 3\u001b[0;31m \u001b[0mdeque\u001b[0m\u001b[0;34m(\u001b[0m\u001b[0;36m3\u001b[0m\u001b[0;34m,\u001b[0m\u001b[0;36m4\u001b[0m\u001b[0;34m)\u001b[0m\u001b[0;34m\u001b[0m\u001b[0;34m\u001b[0m\u001b[0m\n\u001b[0m",
      "\u001b[0;31mTypeError\u001b[0m: 'int' object is not iterable"
     ]
    }
   ],
   "source": [
    "from collections import defaultdict, deque\n",
    "nodes = defaultdict(set)\n"
   ]
  },
  {
   "cell_type": "code",
   "execution_count": 70,
   "metadata": {},
   "outputs": [
    {
     "name": "stdout",
     "output_type": "stream",
     "text": [
      "1 0\n"
     ]
    }
   ],
   "source": [
    "\n",
    "from collections import namedtuple\n",
    "from collections import deque \n",
    "Request = namedtuple(\"Request\", [\"arrived_at\", \"time_to_process\"])\n",
    "Response = namedtuple(\"Response\", [\"was_dropped\", \"started_at\"])\n",
    "\n",
    "\n",
    "class Buffer:\n",
    "    def __init__(self, size):\n",
    "        self.size = size\n",
    "        self.finish_time = deque()\n",
    "\n",
    "    def process(self, request):\n",
    "        # write your code here\n",
    "        responses = []\n",
    "        if len(self.finish_time) > 0:\n",
    "            right = self.finish_time.pop()\n",
    "#             print(right)\n",
    "            if request.arrived_at >= right:\n",
    "                self.finish_time.append(request.arrived_at + request.time_to_process)\n",
    "                responses.append(Response(False, request.arrived_at))\n",
    "            else:\n",
    "                responses.append(Response(True, request.arrived_at))\n",
    "        else:\n",
    "            self.finish_time.append(request.arrived_at + request.time_to_process)\n",
    "            responses.append(Response(False, request.arrived_at))\n",
    "        return responses\n",
    "        \n",
    "\n",
    "def process_requests(requests, buffer):\n",
    "    responses = []\n",
    "    for request in requests:\n",
    "        responses.append(buffer.process(request))\n",
    "    return responses\n",
    "\n",
    "\n",
    "def main():\n",
    "    buffer_size, n_requests = map(int, input().split())\n",
    "    requests = []\n",
    "    for _ in range(n_requests):\n",
    "        arrived_at, time_to_process = map(int, input().split())\n",
    "        requests.append(Request(arrived_at, time_to_process))\n",
    "\n",
    "    buffer = Buffer(buffer_size)\n",
    "    responses = process_requests(requests, buffer)\n",
    "\n",
    "    for [response] in responses:\n",
    "#         print(response)\n",
    "        print(response.started_at if not response.was_dropped else -1)\n",
    "\n",
    "\n",
    "if __name__ == \"__main__\":\n",
    "    main()"
   ]
  },
  {
   "cell_type": "code",
   "execution_count": 53,
   "metadata": {},
   "outputs": [],
   "source": [
    "r = []\n",
    "Re = namedtuple('x', ['arrive', 'time'])\n",
    "r.append(Re(4,3))"
   ]
  },
  {
   "cell_type": "code",
   "execution_count": 55,
   "metadata": {},
   "outputs": [
    {
     "data": {
      "text/plain": [
       "4"
      ]
     },
     "execution_count": 55,
     "metadata": {},
     "output_type": "execute_result"
    }
   ],
   "source": [
    "r[0].arrive"
   ]
  },
  {
   "cell_type": "code",
   "execution_count": 57,
   "metadata": {},
   "outputs": [
    {
     "data": {
      "text/plain": [
       "0"
      ]
     },
     "execution_count": 57,
     "metadata": {},
     "output_type": "execute_result"
    }
   ],
   "source": [
    "x = deque()\n",
    "len(x)"
   ]
  },
  {
   "cell_type": "code",
   "execution_count": 65,
   "metadata": {},
   "outputs": [
    {
     "data": {
      "text/plain": [
       "1"
      ]
     },
     "execution_count": 65,
     "metadata": {},
     "output_type": "execute_result"
    }
   ],
   "source": [
    "x = [0]\n",
    "len(x)"
   ]
  },
  {
   "cell_type": "code",
   "execution_count": null,
   "metadata": {},
   "outputs": [],
   "source": []
  }
 ],
 "metadata": {
  "kernelspec": {
   "display_name": "Python 3",
   "language": "python",
   "name": "python3"
  },
  "language_info": {
   "codemirror_mode": {
    "name": "ipython",
    "version": 3
   },
   "file_extension": ".py",
   "mimetype": "text/x-python",
   "name": "python",
   "nbconvert_exporter": "python",
   "pygments_lexer": "ipython3",
   "version": "3.6.8"
  }
 },
 "nbformat": 4,
 "nbformat_minor": 2
}
